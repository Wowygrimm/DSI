{
 "cells": [
  {
   "cell_type": "code",
   "execution_count": 10,
   "metadata": {},
   "outputs": [],
   "source": [
    "import numpy as np\n",
    "import matplotlib.pyplot as plt"
   ]
  },
  {
   "cell_type": "code",
   "execution_count": 2,
   "metadata": {},
   "outputs": [],
   "source": [
    "def rotate_x(v,alph):\n",
    "    M = [[1, 0, 0], [0, np.cos(alph), np.sin(alph)], [0, -np.sin(alph), np.cos(alph)]]\n",
    "    return(np.dot(M,v))\n",
    "\n",
    "def rotate_y(v,beta):\n",
    "    M = [[np.cos(beta), 0, -np.sin(beta)], [0, 1, 0], [np.sin(beta), 0, np.cos(beta)]]\n",
    "    return(np.dot(M,v))\n",
    "\n",
    "def rotate_z(v,gamma):\n",
    "    M = [[np.cos(gamma), np.sin(gamma), 0], [-np.sin(gamma), np.cos(gamma), 0], [0, 0, 1]]\n",
    "    return(np.dot(M,v))\n",
    "\n",
    "def rotate(v, alph, beta, gamma):\n",
    "    return rotate_x(rotate_y(rotate_z(v,gamma),beta),alph)"
   ]
  },
  {
   "cell_type": "code",
   "execution_count": 23,
   "metadata": {},
   "outputs": [],
   "source": [
    "u = np.array([1,0,0])\n",
    "v = np.array([0,1,0])\n",
    "\n",
    "alpha = 0.12\n",
    "beta = 2.5\n",
    "gamma = 0.04\n",
    "\n",
    "x = rotate(u, alpha, beta, gamma)\n",
    "y = rotate(v, alpha, beta, gamma)"
   ]
  },
  {
   "cell_type": "code",
   "execution_count": 26,
   "metadata": {},
   "outputs": [
    {
     "name": "stdout",
     "output_type": "stream",
     "text": [
      "[-0.80050279  0.03188536  0.59848025] [-0.0320372   0.99487951 -0.09585606]\n"
     ]
    }
   ],
   "source": [
    "print(x,y)"
   ]
  },
  {
   "cell_type": "code",
   "execution_count": 20,
   "metadata": {},
   "outputs": [],
   "source": [
    "def normal(u,v):\n",
    "    A = np.array([u,v])\n",
    "    b = [0,0]\n",
    "    q,r = np.linalg.qr(A)\n",
    "    \n",
    "    b = np.dot(q.transpose(),b)\n",
    "    A = r\n",
    "    \n",
    "    return np.linalg.lstsq(A,b)"
   ]
  },
  {
   "cell_type": "code",
   "execution_count": 22,
   "metadata": {},
   "outputs": [
    {
     "name": "stderr",
     "output_type": "stream",
     "text": [
      "C:\\Users\\DSI\\Anaconda3\\lib\\site-packages\\ipykernel_launcher.py:9: FutureWarning: `rcond` parameter will change to the default of machine precision times ``max(M, N)`` where M and N are the input matrix dimensions.\n",
      "To use the future default and silence this warning we advise to pass `rcond=None`, to keep using the old, explicitly pass `rcond=-1`.\n",
      "  if __name__ == '__main__':\n"
     ]
    },
    {
     "data": {
      "text/plain": [
       "(array([0., 0., 0.]), array([], dtype=float64), 2, array([1., 1.]))"
      ]
     },
     "execution_count": 22,
     "metadata": {},
     "output_type": "execute_result"
    }
   ],
   "source": [
    "normal([1,0,0], [0,1,0])"
   ]
  },
  {
   "cell_type": "code",
   "execution_count": 28,
   "metadata": {},
   "outputs": [],
   "source": [
    "z = np.cross(x,y)"
   ]
  }
 ],
 "metadata": {
  "kernelspec": {
   "display_name": "Python 3",
   "language": "python",
   "name": "python3"
  },
  "language_info": {
   "codemirror_mode": {
    "name": "ipython",
    "version": 3
   },
   "file_extension": ".py",
   "mimetype": "text/x-python",
   "name": "python",
   "nbconvert_exporter": "python",
   "pygments_lexer": "ipython3",
   "version": "3.7.3"
  }
 },
 "nbformat": 4,
 "nbformat_minor": 2
}
